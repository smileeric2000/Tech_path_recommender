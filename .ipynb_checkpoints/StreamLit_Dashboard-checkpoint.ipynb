{
 "cells": [
  {
   "cell_type": "markdown",
   "id": "59d9e6de-26de-4412-8696-8e42f4fa1dc0",
   "metadata": {},
   "source": [
    "# Personalized learning path \n",
    "\n",
    "_This model/app allows Users to uploads their resume or selects current skills → app recommends personalized learning paths_"
   ]
  },
  {
   "cell_type": "markdown",
   "id": "5fe103ca-e9d6-4d6a-b15b-d1cec5f423be",
   "metadata": {},
   "source": [
    "**Tools**\n",
    "\n",
    "🧠 NLP (for resume/skills parsing)\n",
    "\n",
    "🎯 Similarity matching (cosine similarity or embedding-based)\n",
    "\n",
    "📊 Streamlit (frontend)\n",
    "\n",
    "📚 Predefined learning paths dataset (you'll create this)\n",
    "\n",
    "🔍 Optional: LLM or Flan-T5 for suggesting learning goals"
   ]
  },
  {
   "cell_type": "raw",
   "id": "6d2abc0e-a490-4984-9bb5-af187d83e3b5",
   "metadata": {},
   "source": [
    "learning_recommender/\r\n",
    "│\r\n",
    "├── app.py                   # Main Streamlit app\r\n",
    "├── data/\r\n",
    "│   └── learning_paths.json  # Skills mapped to paths\r\n",
    "├── utils/\r\n",
    "│   └── parser.py            # Resume parser\r\n",
    "│   └── recommender.py       # Recommender logic\r\n",
    "├── sample_resume.txt\r\n",
    "├── requirements.txt\r\n",
    "└── README.md\r\n"
   ]
  },
  {
   "cell_type": "markdown",
   "id": "8e6160df-9606-4390-b9d3-d484bf396184",
   "metadata": {},
   "source": [
    "#### Define Learning Paths"
   ]
  },
  {
   "cell_type": "code",
   "execution_count": 1,
   "id": "20629520-8e8c-466d-9f10-2d1effb41c8f",
   "metadata": {},
   "outputs": [],
   "source": [
    "import json\n",
    "text = {\n",
    "  \"python\": {\n",
    "    \"resources\": [\n",
    "      {\n",
    "        \"title\": \"Complete Python for Beginners\",\n",
    "        \"platform\": \"Coursera\",\n",
    "        \"time_estimate\": \"20 hours\",\n",
    "        \"link\": \"https://www.coursera.org/learn/python\"\n",
    "      },\n",
    "      {\n",
    "        \"title\": \"Automate the Boring Stuff with Python\",\n",
    "        \"platform\": \"Book\",\n",
    "        \"time_estimate\": \"15 hours\",\n",
    "        \"link\": \"https://automatetheboringstuff.com/\"\n",
    "      }\n",
    "    ],\n",
    "    \"prerequisites\": []\n",
    "  },\n",
    "  \"machine learning\": {\n",
    "    \"resources\": [\n",
    "      {\n",
    "        \"title\": \"Machine Learning by Andrew Ng\",\n",
    "        \"platform\": \"Coursera\",\n",
    "        \"time_estimate\": \"55 hours\",\n",
    "        \"link\": \"https://www.coursera.org/learn/machine-learning\"\n",
    "      },\n",
    "      {\n",
    "        \"title\": \"Hands-On Machine Learning\",\n",
    "        \"platform\": \"Book\",\n",
    "        \"time_estimate\": \"40 hours\",\n",
    "        \"link\": \"https://www.oreilly.com/library/view/hands-on-machine-learning/9781491962282/\"\n",
    "      }\n",
    "    ],\n",
    "    \"prerequisites\": [\"python\", \"data science\"]\n",
    "  }\n",
    "}\n",
    "\n",
    "\n",
    "# Save to JSON\n",
    "with open(\"learning_paths.json\", \"w\") as f:\n",
    "    json.dump(text, f, indent=2)"
   ]
  },
  {
   "cell_type": "markdown",
   "id": "bb5a1617-29f3-47d6-89e0-96ee58407bf0",
   "metadata": {},
   "source": [
    "#### Step 2 Resume or Skill Input\n",
    "\n",
    "* Define Resume upload function (Allow Resume to be of types-> (.txt or .pdf)\n",
    "\n",
    "* Manual Skill Selection (multi-select box)"
   ]
  },
  {
   "cell_type": "code",
   "execution_count": 2,
   "id": "e6a7838d-2530-4009-91dd-3c81d0ec1166",
   "metadata": {},
   "outputs": [],
   "source": [
    "#Import necessary libraries and dependencies\n",
    "import streamlit as st\n",
    "from utils.parser import extract_skills\n",
    "from utils.recommender import recommend_paths"
   ]
  },
  {
   "cell_type": "markdown",
   "id": "12d73f4a-966b-471c-9d73-dc86093d34cf",
   "metadata": {},
   "source": [
    "NOTE :\n",
    "\n",
    "    utils → package (folder with __init__.py)    \n",
    "    parser.py → module (a single Python file inside utils)\n",
    "    extract_skills → function (defined inside the parser.py module)\n",
    "\n",
    "The \"extract_skills\" — in utils/parser.py\n",
    "Parses a given text (e.g., user input) and extracts known skills mentioned in it.\n",
    "How it works:\n",
    "\n",
    "    Checks the input text against a predefined list of skills and returns all the skills found.\n",
    "    \n",
    "The \"recommend_paths\" — in recommender.py\n",
    "Takes a list of skills the user already knows and recommends personalized learning paths and resources.\n",
    "How it works:\n",
    "\n",
    "    For each known skill, it provides relevant learning resources.\n",
    "    Identifies “next skills” the user should learn based on prerequisite relationships and recommends resources for those too.\n",
    "\n",
    "Output:\n",
    "A dictionary mapping each skill (both current and recommended next skills) to a list of learning resources (e.g., courses, books).\n",
    "\n"
   ]
  },
  {
   "cell_type": "code",
   "execution_count": 9,
   "id": "61a90aed-ffee-4f3f-867a-14d1e5d37ab4",
   "metadata": {},
   "outputs": [],
   "source": [
    "\n",
    "st.title(\"📘 Personalized Learning Path Recommender\")\n",
    "\n",
    "skills = []  #Initialize skills <<empty list of skills>>\n",
    "\n",
    "option = st.radio(\"Choose Input Type\", [\"Upload Resume\", \"Select Skills\"])\n",
    "\n",
    "if option == \"Upload Resume\":\n",
    "    uploaded_file = st.file_uploader(\"Upload your resume\", type=[\"pdf\", \"txt\"])\n",
    "    if uploaded_file:\n",
    "        text = uploaded_file.read().decode('utf-8')\n",
    "        skills = extract_skills(text)\n",
    "        st.write(\"**Extracted Skills:**\", skills)\n",
    "\n",
    "elif option == \"Select Skills\":\n",
    "    all_skills = [\"Python\", \"SQL\", \"Pandas\", \"Scikit-learn\", \"Spark\", \"Airflow\", \"Numpy\", \"Transformers\"]\n",
    "    skills = st.multiselect(\"Select your current skills\", all_skills)\n",
    "\n",
    "if skills:\n",
    "    recommendations = recommend_paths(skills)\n",
    "    st.write(\"### 🎯 Recommended Paths:\")\n",
    "    for rec in recommendations:\n",
    "        st.markdown(f\"- **{rec}**\")"
   ]
  },
  {
   "cell_type": "markdown",
   "id": "304b0f43-61bf-4d98-883a-2a3df2178f69",
   "metadata": {},
   "source": [
    "#### Step 3 Extract Skills (NLP Resume Parser)"
   ]
  },
  {
   "cell_type": "markdown",
   "id": "dfd5eb2c-8d72-4c9b-992d-4b485c6eca14",
   "metadata": {},
   "source": [
    "#### Step 4 Recommend Based on Skill Overlap"
   ]
  },
  {
   "cell_type": "code",
   "execution_count": 10,
   "id": "38a8f328-7277-492e-b354-eadb13639d70",
   "metadata": {},
   "outputs": [],
   "source": [
    "import json\n",
    "\n",
    "def recommend_paths(user_skills):\n",
    "    with open(\"data/learning_paths.json\", \"r\") as f:\n",
    "        paths = json.load(f)\n",
    "\n",
    "    scores = {}\n",
    "    for path, details in paths.items():\n",
    "        skill_list = details.get(\"prerequisites\", [])\n",
    "        overlap = set(user_skills).intersection(set(skill_list))\n",
    "        scores[path] = len(overlap) / len(skill_list) if skill_list else 0\n",
    "\n",
    "    return sorted(scores, key=scores.get, reverse=True)"
   ]
  },
  {
   "cell_type": "markdown",
   "id": "2318ad82-33d3-4721-8973-562ff62192dc",
   "metadata": {},
   "source": [
    "#### Step 6: (Optional) Suggest Next Skills to Learn\n",
    "\n",
    "Extend recommend_paths() to also return:\n",
    "    \n",
    "    Unlearned skills per path\n",
    "    Time estimates\n",
    "    Resources (links from Medium, YouTube, etc.)\n"
   ]
  },
  {
   "cell_type": "markdown",
   "id": "63320f2e-362d-4ba4-960c-3a65a264cf6c",
   "metadata": {},
   "source": [
    "#### Step 7 LLM Integration ( Skill-to-Course Match Using APIs)\n",
    "\n",
    "    Using HuggingFace’s OpenAI GPT API.\n",
    "\n",
    "    Fetch real-time course data from platforms like Coursera, EdX, Udemy.\n",
    "\n",
    "\n",
    "    \n",
    "    Input: user skills + recommended learning path.\n",
    "    \n",
    "    Output: list of course names + short description."
   ]
  },
  {
   "cell_type": "markdown",
   "id": "d1bdce4d-3724-4543-9ec8-dc58cd89b4a3",
   "metadata": {},
   "source": [
    "##### Coursera API fetch function"
   ]
  },
  {
   "cell_type": "code",
   "execution_count": 11,
   "id": "9acf0c69-f4ea-4887-8ee0-4f346ef4e343",
   "metadata": {},
   "outputs": [],
   "source": [
    "import requests\n",
    "\n",
    "def fetch_coursera_courses(query, limit=5):\n",
    "    \"\"\"\n",
    "    Fetch top courses from Coursera matching the query.\n",
    "    \"\"\"\n",
    "    url = \"https://api.coursera.org/api/courses.v1\"\n",
    "    params = {\n",
    "        \"q\": \"search\",\n",
    "        \"query\": query,\n",
    "        \"limit\": limit,\n",
    "        \"fields\": \"name,description,slug\"\n",
    "    }\n",
    "    response = requests.get(url, params=params)\n",
    "    data = response.json()\n",
    "\n",
    "    courses = []\n",
    "    for course in data.get(\"elements\", []):\n",
    "        name = course.get(\"name\")\n",
    "        slug = course.get(\"slug\")\n",
    "        url = f\"https://www.coursera.org/learn/{slug}\" if slug else \"\"\n",
    "        courses.append({\"name\": name, \"url\": url})\n",
    "    return courses"
   ]
  },
  {
   "cell_type": "markdown",
   "id": "dc90a8f8-bca5-43a9-a812-63e9d671f097",
   "metadata": {},
   "source": [
    "##### OpenAI GPT API Integration"
   ]
  },
  {
   "cell_type": "code",
   "execution_count": 12,
   "id": "8cc0a636-8650-48d3-b7b1-c7989a11c505",
   "metadata": {},
   "outputs": [],
   "source": [
    "# #set OpenAI API key environment variables \n",
    "\n",
    "# import openai\n",
    "# import os\n",
    "\n",
    "# openai.api_key = os.getenv(\"OPENAI_API_KEY\")  # Or set directly here\n",
    "\n",
    "# def generate_course_recommendations(user_skills, learning_path, experience_level):\n",
    "#     prompt = f\"\"\"\n",
    "#     You are a helpful learning advisor.\n",
    "\n",
    "#     User has skills: {', '.join(user_skills)}.\n",
    "#     They want to learn: {learning_path}.\n",
    "#     Their experience level is: {experience_level}.\n",
    "\n",
    "#     Suggest 3 online courses (with titles) suitable for this user on platforms like Coursera, EdX, or Udemy.\n",
    "#     Provide short descriptions for each course.\n",
    "#     \"\"\"\n",
    "\n",
    "#     response = openai.ChatCompletion.create(\n",
    "#         model=\"gpt-4o-mini\",\n",
    "#         messages=[{\"role\": \"user\", \"content\": prompt}],\n",
    "#         temperature=0.7,\n",
    "#         max_tokens=300,\n",
    "#     )\n",
    "\n",
    "#     return response.choices[0].message.content.strip()\n"
   ]
  },
  {
   "cell_type": "markdown",
   "id": "4f1ef71a-4994-4e20-bbb0-1348c498dd2d",
   "metadata": {},
   "source": [
    "##### PDF Export with fpdf"
   ]
  },
  {
   "cell_type": "code",
   "execution_count": 13,
   "id": "e646512d-deec-47fb-91da-34d0d986331f",
   "metadata": {},
   "outputs": [],
   "source": [
    "from fpdf import FPDF\n",
    "\n",
    "def create_pdf_report(user_skills, experience_level, recommended_paths, course_recommendations):\n",
    "    pdf = FPDF()\n",
    "    pdf.add_page()\n",
    "    pdf.set_font(\"Arial\", \"B\", 16)\n",
    "    pdf.cell(0, 10, \"Personalized Learning Path Report\", ln=True)\n",
    "    pdf.set_font(\"Arial\", \"\", 12)\n",
    "    pdf.cell(0, 10, f\"Skills: {', '.join(user_skills)}\", ln=True)\n",
    "    pdf.cell(0, 10, f\"Experience Level: {experience_level}\", ln=True)\n",
    "    pdf.ln(10)\n",
    "\n",
    "    pdf.set_font(\"Arial\", \"B\", 14)\n",
    "    pdf.cell(0, 10, \"Recommended Learning Paths:\", ln=True)\n",
    "    pdf.set_font(\"Arial\", \"\", 12)\n",
    "    for path in recommended_paths:\n",
    "        pdf.cell(0, 10, f\"- {path}\", ln=True)\n",
    "\n",
    "    pdf.ln(10)\n",
    "    pdf.set_font(\"Arial\", \"B\", 14)\n",
    "    pdf.cell(0, 10, \"Course Recommendations:\", ln=True)\n",
    "    pdf.set_font(\"Arial\", \"\", 12)\n",
    "    for line in course_recommendations.split(\"\\n\"):\n",
    "        pdf.cell(0, 10, line, ln=True)\n",
    "\n",
    "    filename = \"learning_path_report.pdf\"\n",
    "    pdf.output(filename)\n",
    "    return filename\n"
   ]
  },
  {
   "cell_type": "markdown",
   "id": "b3665cab-84d4-4fe8-9961-b900330edbea",
   "metadata": {},
   "source": [
    "##  Streamlit Full App Example (app.py)"
   ]
  },
  {
   "cell_type": "code",
   "execution_count": 14,
   "id": "80948295-194c-4c9a-b165-6e214ccb46cc",
   "metadata": {},
   "outputs": [
    {
     "name": "stderr",
     "output_type": "stream",
     "text": [
      "2025-05-30 16:49:47.814 No runtime found, using MemoryCacheStorageManager\n"
     ]
    }
   ],
   "source": [
    "from transformers import GPT2LMHeadModel, GPT2Tokenizer\n",
    "import torch\n",
    "from pdf_generator import create_pdf_report, fetch_coursera_courses, generate_course_recommendations\n",
    "\n",
    "# Load GPT-2 model and tokenizer\n",
    "@st.cache_resource\n",
    "def load_gpt2_model():\n",
    "    tokenizer = GPT2Tokenizer.from_pretrained(\"gpt2\")\n",
    "    model = GPT2LMHeadModel.from_pretrained(\"gpt2\")\n",
    "    model.eval()\n",
    "    return tokenizer, model\n",
    "\n",
    "tokenizer, model = load_gpt2_model()\n",
    "\n",
    "@st.cache_data\n",
    "def load_learning_paths():\n",
    "    with open(\"data/learning_paths.json\", \"r\") as f:\n",
    "        return json.load(f)\n",
    "\n",
    "def extract_skills_from_text(text, keywords):\n",
    "    return [kw for kw in keywords if re.search(rf\"\\b{kw}\\b\", text, re.IGNORECASE)]\n",
    "\n",
    "def gpt2_generate(prompt, max_length=100):\n",
    "    input_ids = tokenizer.encode(prompt, return_tensors=\"pt\")\n",
    "    with torch.no_grad():\n",
    "        output = model.generate(\n",
    "            input_ids,\n",
    "            max_length=input_ids.shape[1] + max_length,\n",
    "            pad_token_id=tokenizer.eos_token_id,\n",
    "            do_sample=True,\n",
    "            top_k=50,\n",
    "            top_p=0.95,\n",
    "            temperature=0.7\n",
    "        )\n",
    "    generated = tokenizer.decode(output[0], skip_special_tokens=True)\n",
    "    return generated[len(prompt):].strip().split(\"User:\")[0].strip()\n",
    "\n",
    "def main():\n",
    "    st.title(\"📘 Personalized Learning Path Recommender (Offline GPT-2 Version)\")\n",
    "\n",
    "    learning_paths = load_learning_paths()\n",
    "    all_skills = sorted({skill for skills in learning_paths.values() for skill in skills})\n",
    "\n",
    "    input_type = st.radio(\"Choose input type\", [\"Upload Resume\", \"Select Skills\"])\n",
    "    experience_level = st.selectbox(\"Select your experience level\", [\"Beginner\", \"Intermediate\", \"Advanced\"])\n",
    "\n",
    "    user_skills = []\n",
    "\n",
    "    if input_type == \"Upload Resume\":\n",
    "        uploaded_file = st.file_uploader(\"Upload your resume (.txt only)\", type=[\"txt\"])\n",
    "        if uploaded_file:\n",
    "            text = uploaded_file.read().decode(\"utf-8\")\n",
    "            user_skills = extract_skills_from_text(text, all_skills)\n",
    "            st.write(\"### Extracted Skills:\")\n",
    "            st.write(user_skills if user_skills else \"No known skills detected. Try manual selection.\")\n",
    "\n",
    "    elif input_type == \"Select Skills\":\n",
    "        user_skills = st.multiselect(\"Select your current skills\", all_skills)\n",
    "\n",
    "    if user_skills:\n",
    "        scores = {}\n",
    "        for path, skills in learning_paths.items():\n",
    "            overlap = set(user_skills).intersection(skills)\n",
    "            scores[path] = len(overlap) / len(skills)\n",
    "        recommended_paths = sorted(scores, key=scores.get, reverse=True)\n",
    "\n",
    "        st.write(\"### 🎯 Recommended Learning Paths:\")\n",
    "        for path in recommended_paths:\n",
    "            st.markdown(f\"**{path}** — Skills: {', '.join(learning_paths[path])}\")\n",
    "\n",
    "        if st.button(\"Get Course Recommendations\"):\n",
    "            with st.spinner(\"Generating personalized suggestions...\"):\n",
    "                prompt = (\n",
    "                    f\"Suggest personalized courses for someone with the following skills: {', '.join(user_skills)}. \"\n",
    "                    f\"The recommended learning path is: {recommended_paths[0]}. \"\n",
    "                    f\"Their experience level is {experience_level}.\\nCourses:\"\n",
    "                )\n",
    "                course_recs = gpt2_generate(prompt)\n",
    "                st.markdown(\"### 📚 Course Recommendations:\")\n",
    "                st.write(course_recs)\n",
    "\n",
    "                courses = fetch_coursera_courses(recommended_paths[0])\n",
    "                st.markdown(\"### 🔎 Real Coursera Courses:\")\n",
    "                for course in courses:\n",
    "                    st.markdown(f\"- [{course['name']}]({course['url']})\")\n",
    "\n",
    "                if st.button(\"Download PDF Report\"):\n",
    "                    filename = create_pdf_report(user_skills, experience_level, recommended_paths, course_recs)\n",
    "                    with open(filename, \"rb\") as f:\n",
    "                        st.download_button(label=\"Download PDF\", data=f, file_name=filename, mime=\"application/pdf\")\n",
    "\n",
    "if __name__ == \"__main__\":\n",
    "    main()"
   ]
  },
  {
   "cell_type": "code",
   "execution_count": null,
   "id": "a32aa80b-8c17-4e9f-9899-99e9c6820ca2",
   "metadata": {},
   "outputs": [],
   "source": []
  }
 ],
 "metadata": {
  "kernelspec": {
   "display_name": "Python 3 (ipykernel)",
   "language": "python",
   "name": "python3"
  },
  "language_info": {
   "codemirror_mode": {
    "name": "ipython",
    "version": 3
   },
   "file_extension": ".py",
   "mimetype": "text/x-python",
   "name": "python",
   "nbconvert_exporter": "python",
   "pygments_lexer": "ipython3",
   "version": "3.11.7"
  },
  "widgets": {
   "application/vnd.jupyter.widget-state+json": {
    "state": {},
    "version_major": 2,
    "version_minor": 0
   }
  }
 },
 "nbformat": 4,
 "nbformat_minor": 5
}
